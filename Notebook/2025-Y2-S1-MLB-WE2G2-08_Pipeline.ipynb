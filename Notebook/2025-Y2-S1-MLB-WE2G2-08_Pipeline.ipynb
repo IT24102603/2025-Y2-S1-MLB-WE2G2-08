{
 "cells": [
  {
   "cell_type": "code",
   "execution_count": 1,
   "id": "f6ef4d6e-be7a-428f-a761-53403f870305",
   "metadata": {},
   "outputs": [],
   "source": [
    "##-------------member 01 - handling missing data----------------"
   ]
  },
  {
   "cell_type": "code",
   "execution_count": 2,
   "id": "65980f92-ce6a-4412-ad6e-2dc5023b485a",
   "metadata": {},
   "outputs": [],
   "source": [
    "# Import required libraries\n",
    "import pandas as pd\n",
    "import numpy as np"
   ]
  },
  {
   "cell_type": "code",
   "execution_count": 3,
   "id": "94e579e0-060e-4bb5-8ef3-762bbf5014c2",
   "metadata": {},
   "outputs": [],
   "source": [
    "# Step 1: Load the Dataset\n",
    "# Replace 'Addis_Ababa_city_RTA.csv' with your actual file path\n",
    "df = pd.read_csv('Addis Abbaba City Data set.csv')"
   ]
  },
  {
   "cell_type": "code",
   "execution_count": 4,
   "id": "c3b771da-31cd-47ec-8ecd-7b76143702b7",
   "metadata": {},
   "outputs": [],
   "source": [
    "# Step 2: Identify Missing Values\n",
    "# Convert 'na', 'Unknown', and empty strings to np.nan\n",
    "df.replace(['na', 'Unknown', ''], np.nan, inplace=True)"
   ]
  },
  {
   "cell_type": "code",
   "execution_count": 5,
   "id": "f0cf8c64-03e9-45aa-b3b6-4d70173ad4b6",
   "metadata": {},
   "outputs": [
    {
     "name": "stdout",
     "output_type": "stream",
     "text": [
      "\n",
      "First 5 Rows After Handling Missing Data:\n",
      "        Time Day_of_week Age_band_of_driver Drivers_gender   Educational_level  \\\n",
      "0  17:20:00      Friday              18-30           Male  Junior high school   \n",
      "1  17:45:00    Thursday              18-30           Male  Junior high school   \n",
      "2  17:45:00    Thursday              31-50           Male  Junior high school   \n",
      "3  18:36:00   Wednesday              18-30           Male  Junior high school   \n",
      "4  14:35:00      Friday              18-30           Male   Above high school   \n",
      "\n",
      "  Vehicle_driver_relation Driving_experience      Type_of_vehicle  \\\n",
      "0                Employee         Above 10yr      Lorry (41?100Q)   \n",
      "1                Employee              1-2yr  Public (> 45 seats)   \n",
      "2                Employee             5-10yr      Lorry (41?100Q)   \n",
      "3                Employee              2-5yr                 Taxi   \n",
      "4                Employee              2-5yr           Automobile   \n",
      "\n",
      "  Owner_of_vehicle Service_year_of_vehicle  ... Number_of_casualties  \\\n",
      "0            Owner                   1-2yr  ...                    1   \n",
      "1            Owner                  2-5yrs  ...                    2   \n",
      "2            Owner              Above 10yr  ...                    2   \n",
      "3            Owner              Above 10yr  ...                    3   \n",
      "4            Owner                  2-5yrs  ...                    1   \n",
      "\n",
      "  Vehicle_movement   Casualty_class Casualty_gender Age_band_of_casualty  \\\n",
      "0   Going straight       Pedestrian            Male             Under 18   \n",
      "1   Going straight              NaN             NaN                  NaN   \n",
      "2    Waiting to go              NaN             NaN                  NaN   \n",
      "3   Going straight  Driver or rider          Female                31-50   \n",
      "4   Going straight              NaN             NaN                  NaN   \n",
      "\n",
      "  Work_of_casuality Fitness_of_casuality              Pedestrian_movement  \\\n",
      "0            Driver               Normal  Crossing from driver's nearside   \n",
      "1            Driver               Normal                 Not a Pedestrian   \n",
      "2             Other               Normal                 Not a Pedestrian   \n",
      "3     Self-employed               Normal                 Not a Pedestrian   \n",
      "4            Driver               Normal                 Not a Pedestrian   \n",
      "\n",
      "            Cause_of_accident Accident_severity  \n",
      "0  Changing lane to the right     Slight Injury  \n",
      "1               No distancing     Slight Injury  \n",
      "2      No priority to vehicle     Slight Injury  \n",
      "3                       Other     Slight Injury  \n",
      "4  Changing lane to the right     Slight Injury  \n",
      "\n",
      "[5 rows x 31 columns]\n",
      "\n",
      "Summary Stats After Handling:\n",
      "        Number_of_vehicles_involved  Number_of_casualties\n",
      "count                  1045.000000           1045.000000\n",
      "mean                      2.024880              1.563636\n",
      "std                       0.708023              1.076134\n",
      "min                       1.000000              1.000000\n",
      "25%                       2.000000              1.000000\n",
      "50%                       2.000000              1.000000\n",
      "75%                       2.000000              2.000000\n",
      "max                       7.000000              6.000000\n"
     ]
    }
   ],
   "source": [
    "#Inspect Data After Handling\n",
    "print(\"\\nFirst 5 Rows After Handling Missing Data:\\n\", df.head())\n",
    "print(\"\\nSummary Stats After Handling:\\n\", df.describe())"
   ]
  },
  {
   "cell_type": "code",
   "execution_count": 6,
   "id": "cf56815b-bbb8-4a8d-bfe5-610e4002f27c",
   "metadata": {},
   "outputs": [
    {
     "name": "stdout",
     "output_type": "stream",
     "text": [
      "Missing Values Before Handling:\n",
      " Time                             0\n",
      "Day_of_week                      0\n",
      "Age_band_of_driver             143\n",
      "Drivers_gender                   0\n",
      "Educational_level               14\n",
      "Vehicle_driver_relation          6\n",
      "Driving_experience              21\n",
      "Type_of_vehicle                  0\n",
      "Owner_of_vehicle                 0\n",
      "Service_year_of_vehicle        352\n",
      "Defect_of_vehicle              348\n",
      "Area_accident_occured           14\n",
      "Lanes_or_Medians                27\n",
      "Road_allignment                  6\n",
      "Types_of_Junction                0\n",
      "Road_surface_type                0\n",
      "Road_surface_conditions          0\n",
      "Light_conditions                 0\n",
      "Weather_conditions              17\n",
      "Type_of_collision               14\n",
      "Number_of_vehicles_involved      0\n",
      "Number_of_casualties             0\n",
      "Vehicle_movement                18\n",
      "Casualty_class                 384\n",
      "Casualty_gender                384\n",
      "Age_band_of_casualty           384\n",
      "Work_of_casuality                4\n",
      "Fitness_of_casuality             0\n",
      "Pedestrian_movement              0\n",
      "Cause_of_accident                2\n",
      "Accident_severity                0\n",
      "dtype: int64\n"
     ]
    }
   ],
   "source": [
    "# Display initial missing value counts\n",
    "print(\"Missing Values Before Handling:\\n\", df.isnull().sum())"
   ]
  },
  {
   "cell_type": "code",
   "execution_count": 7,
   "id": "402739d5-f76b-4b20-842a-8f2e5102a51f",
   "metadata": {},
   "outputs": [
    {
     "name": "stdout",
     "output_type": "stream",
     "text": [
      "Missing Values Before Handling:\n",
      " Time                             0\n",
      "Day_of_week                      0\n",
      "Age_band_of_driver             143\n",
      "Drivers_gender                   0\n",
      "Educational_level               14\n",
      "Vehicle_driver_relation          6\n",
      "Driving_experience              21\n",
      "Type_of_vehicle                  0\n",
      "Owner_of_vehicle                 0\n",
      "Service_year_of_vehicle        352\n",
      "Defect_of_vehicle              348\n",
      "Area_accident_occured           14\n",
      "Lanes_or_Medians                27\n",
      "Road_allignment                  6\n",
      "Types_of_Junction                0\n",
      "Road_surface_type                0\n",
      "Road_surface_conditions          0\n",
      "Light_conditions                 0\n",
      "Weather_conditions              17\n",
      "Type_of_collision               14\n",
      "Number_of_vehicles_involved      0\n",
      "Number_of_casualties             0\n",
      "Vehicle_movement                18\n",
      "Casualty_class                 384\n",
      "Casualty_gender                384\n",
      "Age_band_of_casualty           384\n",
      "Work_of_casuality                4\n",
      "Fitness_of_casuality             0\n",
      "Pedestrian_movement              0\n",
      "Cause_of_accident                2\n",
      "Accident_severity                0\n",
      "dtype: int64\n"
     ]
    }
   ],
   "source": [
    "# Display initial missing value counts\n",
    "print(\"Missing Values Before Handling:\\n\", df.isnull().sum())"
   ]
  },
  {
   "cell_type": "code",
   "execution_count": 8,
   "id": "28feb98c-018f-4a4e-9755-e65535ddb6e4",
   "metadata": {},
   "outputs": [
    {
     "name": "stdout",
     "output_type": "stream",
     "text": [
      "Missing Values Before Handling:\n",
      " Time                             0\n",
      "Day_of_week                      0\n",
      "Age_band_of_driver             143\n",
      "Drivers_gender                   0\n",
      "Educational_level               14\n",
      "Vehicle_driver_relation          6\n",
      "Driving_experience              21\n",
      "Type_of_vehicle                  0\n",
      "Owner_of_vehicle                 0\n",
      "Service_year_of_vehicle        352\n",
      "Defect_of_vehicle              348\n",
      "Area_accident_occured           14\n",
      "Lanes_or_Medians                27\n",
      "Road_allignment                  6\n",
      "Types_of_Junction                0\n",
      "Road_surface_type                0\n",
      "Road_surface_conditions          0\n",
      "Light_conditions                 0\n",
      "Weather_conditions              17\n",
      "Type_of_collision               14\n",
      "Number_of_vehicles_involved      0\n",
      "Number_of_casualties             0\n",
      "Vehicle_movement                18\n",
      "Casualty_class                 384\n",
      "Casualty_gender                384\n",
      "Age_band_of_casualty           384\n",
      "Work_of_casuality                4\n",
      "Fitness_of_casuality             0\n",
      "Pedestrian_movement              0\n",
      "Cause_of_accident                2\n",
      "Accident_severity                0\n",
      "dtype: int64\n"
     ]
    }
   ],
   "source": [
    "# Display initial missing value counts\n",
    "print(\"Missing Values Before Handling:\\n\", df.isnull().sum())"
   ]
  },
  {
   "cell_type": "code",
   "execution_count": 9,
   "id": "2c792c02-5e09-419d-ba60-0c11bfdf4628",
   "metadata": {},
   "outputs": [],
   "source": [
    "# Step 4: Handle Remaining Missing Values\n",
    "# Separate numerical and categorical columns\n",
    "num_cols = df.select_dtypes(include=['int64', 'float64']).columns\n",
    "cat_cols = df.select_dtypes(include=['object']).columns"
   ]
  },
  {
   "cell_type": "code",
   "execution_count": 10,
   "id": "8ccf7e11-68f2-49ca-a5b0-2e098bdda5bc",
   "metadata": {},
   "outputs": [],
   "source": [
    "# Impute numerical columns with median (robust to outliers)\n",
    "from sklearn.impute import SimpleImputer\n",
    "num_imputer = SimpleImputer(strategy='median')\n",
    "df[num_cols] = num_imputer.fit_transform(df[num_cols])"
   ]
  },
  {
   "cell_type": "code",
   "execution_count": 11,
   "id": "e2f7b6c4-9f1e-4cac-adfe-9a0648b08df0",
   "metadata": {},
   "outputs": [],
   "source": [
    "# Impute categorical columns with mode (most frequent value)\n",
    "cat_imputer = SimpleImputer(strategy='most_frequent')\n",
    "df[cat_cols] = cat_imputer.fit_transform(df[cat_cols])"
   ]
  },
  {
   "cell_type": "code",
   "execution_count": 12,
   "id": "f85a5d90-b4f8-43bb-80d0-05944d734328",
   "metadata": {},
   "outputs": [],
   "source": [
    "# Optionally, handle missing target variable (Accident_severity) by dropping rows\n",
    "# Only do this if missingness is minimal and target is critical\n",
    "if 'Accident_severity' in df.columns:\n",
    "    df = df.dropna(subset=['Accident_severity'])"
   ]
  },
  {
   "cell_type": "code",
   "execution_count": 13,
   "id": "4baf0fd0-507c-4b5f-a86c-8dd643fc2d64",
   "metadata": {},
   "outputs": [
    {
     "name": "stdout",
     "output_type": "stream",
     "text": [
      "\n",
      "Missing Values After Handling:\n",
      " Time                           0\n",
      "Day_of_week                    0\n",
      "Age_band_of_driver             0\n",
      "Drivers_gender                 0\n",
      "Educational_level              0\n",
      "Vehicle_driver_relation        0\n",
      "Driving_experience             0\n",
      "Type_of_vehicle                0\n",
      "Owner_of_vehicle               0\n",
      "Service_year_of_vehicle        0\n",
      "Defect_of_vehicle              0\n",
      "Area_accident_occured          0\n",
      "Lanes_or_Medians               0\n",
      "Road_allignment                0\n",
      "Types_of_Junction              0\n",
      "Road_surface_type              0\n",
      "Road_surface_conditions        0\n",
      "Light_conditions               0\n",
      "Weather_conditions             0\n",
      "Type_of_collision              0\n",
      "Number_of_vehicles_involved    0\n",
      "Number_of_casualties           0\n",
      "Vehicle_movement               0\n",
      "Casualty_class                 0\n",
      "Casualty_gender                0\n",
      "Age_band_of_casualty           0\n",
      "Work_of_casuality              0\n",
      "Fitness_of_casuality           0\n",
      "Pedestrian_movement            0\n",
      "Cause_of_accident              0\n",
      "Accident_severity              0\n",
      "dtype: int64\n"
     ]
    }
   ],
   "source": [
    "# Verify No Missing Values Remain\n",
    "print(\"\\nMissing Values After Handling:\\n\", df.isnull().sum())"
   ]
  },
  {
   "cell_type": "code",
   "execution_count": 14,
   "id": "84d97683-13bd-48a8-b9b2-3edd8f286b5d",
   "metadata": {},
   "outputs": [
    {
     "name": "stdout",
     "output_type": "stream",
     "text": [
      "\n",
      "First 5 Rows After Handling Missing Data:\n",
      "        Time Day_of_week Age_band_of_driver Drivers_gender   Educational_level  \\\n",
      "0  17:20:00      Friday              18-30           Male  Junior high school   \n",
      "1  17:45:00    Thursday              18-30           Male  Junior high school   \n",
      "2  17:45:00    Thursday              31-50           Male  Junior high school   \n",
      "3  18:36:00   Wednesday              18-30           Male  Junior high school   \n",
      "4  14:35:00      Friday              18-30           Male   Above high school   \n",
      "\n",
      "  Vehicle_driver_relation Driving_experience      Type_of_vehicle  \\\n",
      "0                Employee         Above 10yr      Lorry (41?100Q)   \n",
      "1                Employee              1-2yr  Public (> 45 seats)   \n",
      "2                Employee             5-10yr      Lorry (41?100Q)   \n",
      "3                Employee              2-5yr                 Taxi   \n",
      "4                Employee              2-5yr           Automobile   \n",
      "\n",
      "  Owner_of_vehicle Service_year_of_vehicle  ... Number_of_casualties  \\\n",
      "0            Owner                   1-2yr  ...                  1.0   \n",
      "1            Owner                  2-5yrs  ...                  2.0   \n",
      "2            Owner              Above 10yr  ...                  2.0   \n",
      "3            Owner              Above 10yr  ...                  3.0   \n",
      "4            Owner                  2-5yrs  ...                  1.0   \n",
      "\n",
      "  Vehicle_movement   Casualty_class Casualty_gender Age_band_of_casualty  \\\n",
      "0   Going straight       Pedestrian            Male             Under 18   \n",
      "1   Going straight  Driver or rider            Male                18-30   \n",
      "2    Waiting to go  Driver or rider            Male                18-30   \n",
      "3   Going straight  Driver or rider          Female                31-50   \n",
      "4   Going straight  Driver or rider            Male                18-30   \n",
      "\n",
      "  Work_of_casuality Fitness_of_casuality              Pedestrian_movement  \\\n",
      "0            Driver               Normal  Crossing from driver's nearside   \n",
      "1            Driver               Normal                 Not a Pedestrian   \n",
      "2             Other               Normal                 Not a Pedestrian   \n",
      "3     Self-employed               Normal                 Not a Pedestrian   \n",
      "4            Driver               Normal                 Not a Pedestrian   \n",
      "\n",
      "            Cause_of_accident Accident_severity  \n",
      "0  Changing lane to the right     Slight Injury  \n",
      "1               No distancing     Slight Injury  \n",
      "2      No priority to vehicle     Slight Injury  \n",
      "3                       Other     Slight Injury  \n",
      "4  Changing lane to the right     Slight Injury  \n",
      "\n",
      "[5 rows x 31 columns]\n",
      "\n",
      "Summary Stats After Handling:\n",
      "        Number_of_vehicles_involved  Number_of_casualties\n",
      "count                  1045.000000           1045.000000\n",
      "mean                      2.024880              1.563636\n",
      "std                       0.708023              1.076134\n",
      "min                       1.000000              1.000000\n",
      "25%                       2.000000              1.000000\n",
      "50%                       2.000000              1.000000\n",
      "75%                       2.000000              2.000000\n",
      "max                       7.000000              6.000000\n"
     ]
    }
   ],
   "source": [
    "#Inspect Data After Handling\n",
    "print(\"\\nFirst 5 Rows After Handling Missing Data:\\n\", df.head())\n",
    "print(\"\\nSummary Stats After Handling:\\n\", df.describe())"
   ]
  },
  {
   "cell_type": "code",
   "execution_count": 15,
   "id": "ba896933-400d-4f71-a752-6ad2a2c2d267",
   "metadata": {},
   "outputs": [],
   "source": [
    "# First, create or load a DataFrame\n",
    "import pandas as pd\n",
    "\n",
    "# Example: Create a simple DataFrame\n",
    "# Replace this with your actual data loading or creation code\n",
    "df = pd.DataFrame({\n",
    "    'Column1': [1, 2, 3],\n",
    "    'Column2': ['A', 'B', 'C']\n",
    "})\n",
    "\n",
    "# Now save the DataFrame as CSV\n",
    "df.to_csv(\"output.csv\", index=False)"
   ]
  },
  {
   "cell_type": "code",
   "execution_count": 16,
   "id": "3971c75b-786e-4f55-9f31-107617eaea7a",
   "metadata": {},
   "outputs": [],
   "source": [
    "##--------------Member 02 - Encoding Categorical Varieables-----------------"
   ]
  },
  {
   "cell_type": "code",
   "execution_count": 17,
   "id": "028e13ed-3ffd-4b07-9b16-c459e58264e2",
   "metadata": {},
   "outputs": [],
   "source": [
    "import pandas as pd\n",
    "\n",
    "# Load dataset\n",
    "df = pd.read_csv(\"output.csv\")\n"
   ]
  },
  {
   "cell_type": "code",
   "execution_count": 18,
   "id": "bf5f7b60-7edc-4b5f-8ea7-d8c6f4f96867",
   "metadata": {},
   "outputs": [
    {
     "name": "stdout",
     "output_type": "stream",
     "text": [
      "Available columns: ['Column1', 'Column2']\n",
      "Column 'Accident_Severity' not found. Please check the column names.\n",
      "Possible severity-related columns: []\n"
     ]
    }
   ],
   "source": [
    "import seaborn as sns\n",
    "import pandas as pd\n",
    "from sklearn.preprocessing import LabelEncoder\n",
    "import matplotlib.pyplot as plt  # Added missing import\n",
    "import os\n",
    "\n",
    "# Load the dataset\n",
    "df = pd.read_csv('output.csv')\n",
    "\n",
    "# Check the actual column names in your dataset\n",
    "print(\"Available columns:\", df.columns.tolist())\n",
    "\n",
    "# Find the correct column name for accident severity\n",
    "# After checking the available columns, use the correct column name\n",
    "# For this example, let's assume the correct column name is 'Accident_Severity' (check the printed columns)\n",
    "severity_column = 'Accident_Severity'  # Update this based on the actual column name in your dataset\n",
    "\n",
    "# Check if the column exists before proceeding\n",
    "if severity_column not in df.columns:\n",
    "    print(f\"Column '{severity_column}' not found. Please check the column names.\")\n",
    "    # You might want to list possible severity-related columns\n",
    "    possible_columns = [col for col in df.columns if 'sever' in col.lower() or 'accid' in col.lower()]\n",
    "    print(f\"Possible severity-related columns: {possible_columns}\")\n",
    "else:\n",
    "    # Encode target variable (Label Encoding)\n",
    "    le = LabelEncoder()\n",
    "    df[severity_column] = le.fit_transform(df[severity_column])\n",
    "\n",
    "    # One-hot encode categorical columns (adjust column names if needed)\n",
    "    weather_column = 'Weather_Conditions'  # Update based on actual column name\n",
    "    light_column = 'Light_Conditions'      # Update based on actual column name\n",
    "\n",
    "    # Get columns that actually exist in the dataset\n",
    "    encode_columns = [col for col in [weather_column, light_column] if col in df.columns]\n",
    "    df_encoded = pd.get_dummies(df, columns=encode_columns, drop_first=True)\n",
    "\n",
    "    print(\"\\nFirst 5 rows after encoding:\")\n",
    "    print(df_encoded.head())\n",
    "\n",
    "    # Plot Accident Severity distribution\n",
    "    plt.figure(figsize=(6,4))\n",
    "    sns.countplot(x=severity_column, data=df)\n",
    "    plt.title(\"Accident Severity Distribution\")\n",
    "    plt.xlabel(\"Severity (0=Slight, 1=Serious, 2=Fatal)\")\n",
    "    plt.ylabel(\"Count\")\n",
    "    plt.tight_layout()\n",
    "\n",
    "    # Save plot\n",
    "    os.makedirs(\"../results/eda_visualizations\", exist_ok=True)\n",
    "    plt.savefig(\"../results/eda_visualizations/encoding_accident_severity.png\", dpi=150)\n",
    "    plt.show()\n",
    "\n",
    "    # Save encoded dataset for next member\n",
    "    os.makedirs(\"../results/outputs\", exist_ok=True)\n",
    "    df_encoded.to_csv(\"../results/outputs/accidents_encoded.csv\", index=False)\n",
    "    print(\"\\n✅ Encoded dataset saved to results/outputs/accidents_encoded.csv\")"
   ]
  },
  {
   "cell_type": "code",
   "execution_count": 19,
   "id": "aed50b46-e2c9-4019-8228-208d17082b23",
   "metadata": {},
   "outputs": [],
   "source": [
    "## ----------------member 03 - outlier removel---------------"
   ]
  },
  {
   "cell_type": "code",
   "execution_count": 20,
   "id": "7fe7154b-17e8-4d03-bed7-49d9c3fb4c80",
   "metadata": {},
   "outputs": [],
   "source": [
    "import os\n",
    "import matplotlib.pyplot as plt\n",
    "import seaborn as sns\n",
    "import pandas as pd"
   ]
  },
  {
   "cell_type": "code",
   "execution_count": 21,
   "id": "349bf34b-1f4f-4db1-a349-93726457116e",
   "metadata": {},
   "outputs": [],
   "source": [
    "# Load dataset\n",
    "df = pd.read_csv(\"accidents_encoded.xls\")"
   ]
  },
  {
   "cell_type": "code",
   "execution_count": 22,
   "id": "6c6fa3aa-cf6d-4e7d-a1a1-4a8aa85e7d9e",
   "metadata": {},
   "outputs": [
    {
     "data": {
      "text/plain": [
       "Text(0.5, 1.0, 'Casualties Before Outlier Removal')"
      ]
     },
     "execution_count": 22,
     "metadata": {},
     "output_type": "execute_result"
    },
    {
     "data": {
      "image/png": "[encoded data removed]",
      "text/plain": [
       "<Figure size 600x400 with 1 Axes>"
      ]
     },
     "metadata": {},
     "output_type": "display_data"
    }
   ],
   "source": [
    "# --- Boxplot before outlier removal ---\n",
    "plt.figure(figsize=(6,4))\n",
    "sns.boxplot(x=df['Number_of_casualties'])\n",
    "plt.title(\"Casualties Before Outlier Removal\")"
   ]
  },
  {
   "cell_type": "code",
   "execution_count": 23,
   "id": "0c335279-6558-4cad-a2d8-8b0ea6b9fc88",
   "metadata": {},
   "outputs": [
    {
     "data": {
      "text/plain": [
       "<Figure size 640x480 with 0 Axes>"
      ]
     },
     "metadata": {},
     "output_type": "display_data"
    }
   ],
   "source": [
    "# Save plot\n",
    "os.makedirs(\"../results/eda_visualizations\", exist_ok=True)\n",
    "plt.savefig(\"../results/eda_visualizations/casualties_before_outlier_removal.png\", dpi=150)\n",
    "plt.show()"
   ]
  },
  {
   "cell_type": "code",
   "execution_count": 24,
   "id": "5700758d-8768-49f6-abb1-c9e7cd9811a6",
   "metadata": {},
   "outputs": [],
   "source": [
    "# --- Outlier removal using IQR ---\n",
    "Q1 = df['Number_of_casualties'].quantile(0.25)\n",
    "Q3 = df['Number_of_casualties'].quantile(0.75)\n",
    "IQR = Q3 - Q1\n",
    "\n",
    "df_cleaned = df[(df['Number_of_casualties'] >= Q1 - 1.5*IQR) &\n",
    "                (df['Number_of_casualties'] <= Q3 + 1.5*IQR)]"
   ]
  },
  {
   "cell_type": "code",
   "execution_count": 25,
   "id": "611762a8-7777-4bd4-8873-83671a7a07cc",
   "metadata": {},
   "outputs": [
    {
     "data": {
      "text/plain": [
       "Text(0.5, 1.0, 'Casualties After Outlier Removal')"
      ]
     },
     "execution_count": 25,
     "metadata": {},
     "output_type": "execute_result"
    },
    {
     "data": {
      "image/png": "[encoded data removed]",
      "text/plain": [
       "<Figure size 600x400 with 1 Axes>"
      ]
     },
     "metadata": {},
     "output_type": "display_data"
    }
   ],
   "source": [
    "# --- Boxplot after outlier removal ---\n",
    "plt.figure(figsize=(6,4))\n",
    "sns.boxplot(x=df_cleaned['Number_of_casualties'])\n",
    "plt.title(\"Casualties After Outlier Removal\")"
   ]
  },
  {
   "cell_type": "code",
   "execution_count": 26,
   "id": "4cbbf58b-88f0-48ef-8d85-ae4859ab7e4f",
   "metadata": {},
   "outputs": [
    {
     "data": {
      "text/plain": [
       "<Figure size 640x480 with 0 Axes>"
      ]
     },
     "metadata": {},
     "output_type": "display_data"
    }
   ],
   "source": [
    "# Save plot\n",
    "plt.savefig(\"../results/eda_visualizations/casualties_after_outlier_removal.png\", dpi=150)\n",
    "plt.show()"
   ]
  },
  {
   "cell_type": "code",
   "execution_count": 27,
   "id": "d651b4df-9767-439c-bf6c-d3a5b0baabfe",
   "metadata": {},
   "outputs": [],
   "source": [
    "# --- Save cleaned dataset ---\n",
    "os.makedirs(\"../results/outputs\", exist_ok=True)\n",
    "df_cleaned.to_csv(\"../results/outputs/accidents_cleaned.csv\", index=False)"
   ]
  },
  {
   "cell_type": "code",
   "execution_count": 28,
   "id": "23a3f975-2264-47db-8d89-f6c098fdb507",
   "metadata": {},
   "outputs": [
    {
     "name": "stdout",
     "output_type": "stream",
     "text": [
      "\n",
      " Cleaned dataset saved to results/outputs/accidents_cleaned.csv\n"
     ]
    }
   ],
   "source": [
    "print(\"\\n Cleaned dataset saved to results/outputs/accidents_cleaned.csv\")"
   ]
  },
  {
   "cell_type": "code",
   "execution_count": 29,
   "id": "d202b37a-1be9-48a8-90a7-2fffec9307cb",
   "metadata": {},
   "outputs": [],
   "source": [
    "##--------------member 04 - Normalization/Scalling----------------"
   ]
  },
  {
   "cell_type": "code",
   "execution_count": 30,
   "id": "ba9c60a3-bae1-44b0-a2ee-5f822dd901c6",
   "metadata": {},
   "outputs": [
    {
     "name": "stdout",
     "output_type": "stream",
     "text": [
      "No missing values in numerical columns.\n",
      "Scaling complete! Scaled data saved as 'train_scaled.csv' and 'test_scaled.csv'.\n",
      "Train scaled head:\n",
      "          Time Day_of_week Age_band_of_driver Drivers_gender  \\\n",
      "192   7:30:00     Tuesday              31-50           Male   \n",
      "305  16:20:00   Wednesday              31-50           Male   \n",
      "734  17:30:00     Tuesday              31-50           Male   \n",
      "706  20:15:00      Monday              31-50           Male   \n",
      "551   5:46:00      Friday              18-30           Male   \n",
      "\n",
      "      Educational_level Vehicle_driver_relation Driving_experience  \\\n",
      "192  Junior high school                Employee              1-2yr   \n",
      "305   Elementary school                   Owner              2-5yr   \n",
      "734  Junior high school                Employee              2-5yr   \n",
      "706   Elementary school                Employee              2-5yr   \n",
      "551   Elementary school                Employee             5-10yr   \n",
      "\n",
      "         Type_of_vehicle Owner_of_vehicle Service_year_of_vehicle  ...  \\\n",
      "192           Automobile            Owner                 5-10yrs  ...   \n",
      "305      Lorry (41?100Q)            Owner                 Unknown  ...   \n",
      "734  Public (> 45 seats)            Owner                  2-5yrs  ...   \n",
      "706           Automobile            Owner                  2-5yrs  ...   \n",
      "551     Pick up upto 10Q            Owner                 Unknown  ...   \n",
      "\n",
      "    Weather_conditions_Other Weather_conditions_Raining  \\\n",
      "192                    False                      False   \n",
      "305                    False                      False   \n",
      "734                    False                      False   \n",
      "706                    False                      False   \n",
      "551                    False                      False   \n",
      "\n",
      "    Weather_conditions_Raining and Windy Weather_conditions_Snow  \\\n",
      "192                                False                   False   \n",
      "305                                False                   False   \n",
      "734                                False                   False   \n",
      "706                                False                   False   \n",
      "551                                False                   False   \n",
      "\n",
      "    Weather_conditions_Unknown Weather_conditions_Windy  \\\n",
      "192                      False                    False   \n",
      "305                      False                    False   \n",
      "734                      False                    False   \n",
      "706                      False                    False   \n",
      "551                      False                    False   \n",
      "\n",
      "    Light_conditions_Darkness - lights unlit  \\\n",
      "192                                    False   \n",
      "305                                    False   \n",
      "734                                    False   \n",
      "706                                    False   \n",
      "551                                    False   \n",
      "\n",
      "    Light_conditions_Darkness - no lighting  Light_conditions_Daylight  \\\n",
      "192                                   False                       True   \n",
      "305                                   False                       True   \n",
      "734                                   False                       True   \n",
      "706                                    True                      False   \n",
      "551                                   False                       True   \n",
      "\n",
      "     Accident_severity  \n",
      "192                2.0  \n",
      "305                1.0  \n",
      "734                0.0  \n",
      "706                3.0  \n",
      "551                2.0  \n",
      "\n",
      "[5 rows x 39 columns]\n",
      "Test scaled head:\n",
      "          Time Day_of_week Age_band_of_driver Drivers_gender  \\\n",
      "760  18:40:00    Thursday              31-50           Male   \n",
      "884  16:02:00      Sunday           Under 18           Male   \n",
      "938  10:35:00   Wednesday           Under 18           Male   \n",
      "901  16:50:00      Monday              18-30           Male   \n",
      "622   2:05:00      Sunday              18-30           Male   \n",
      "\n",
      "      Educational_level Vehicle_driver_relation Driving_experience  \\\n",
      "760  Junior high school                Employee             5-10yr   \n",
      "884  Junior high school                Employee          Below 1yr   \n",
      "938  Junior high school                Employee             5-10yr   \n",
      "901  Junior high school                Employee              1-2yr   \n",
      "622  Junior high school                Employee              2-5yr   \n",
      "\n",
      "         Type_of_vehicle Owner_of_vehicle Service_year_of_vehicle  ...  \\\n",
      "760  Public (> 45 seats)     Governmental                 Unknown  ...   \n",
      "884           Automobile            Owner                 Unknown  ...   \n",
      "938           Automobile            Owner                 5-10yrs  ...   \n",
      "901      Lorry (41?100Q)            Owner                 Unknown  ...   \n",
      "622           Automobile            Owner              Above 10yr  ...   \n",
      "\n",
      "    Weather_conditions_Other Weather_conditions_Raining  \\\n",
      "760                    False                      False   \n",
      "884                    False                      False   \n",
      "938                    False                      False   \n",
      "901                    False                      False   \n",
      "622                    False                      False   \n",
      "\n",
      "    Weather_conditions_Raining and Windy Weather_conditions_Snow  \\\n",
      "760                                False                   False   \n",
      "884                                False                   False   \n",
      "938                                False                   False   \n",
      "901                                False                   False   \n",
      "622                                False                   False   \n",
      "\n",
      "    Weather_conditions_Unknown Weather_conditions_Windy  \\\n",
      "760                      False                    False   \n",
      "884                      False                    False   \n",
      "938                      False                     True   \n",
      "901                      False                    False   \n",
      "622                      False                    False   \n",
      "\n",
      "    Light_conditions_Darkness - lights unlit  \\\n",
      "760                                     True   \n",
      "884                                    False   \n",
      "938                                    False   \n",
      "901                                    False   \n",
      "622                                    False   \n",
      "\n",
      "    Light_conditions_Darkness - no lighting  Light_conditions_Daylight  \\\n",
      "760                                   False                      False   \n",
      "884                                   False                       True   \n",
      "938                                   False                       True   \n",
      "901                                   False                       True   \n",
      "622                                   False                      False   \n",
      "\n",
      "     Accident_severity  \n",
      "760                NaN  \n",
      "884                NaN  \n",
      "938                NaN  \n",
      "901                NaN  \n",
      "622                NaN  \n",
      "\n",
      "[5 rows x 39 columns]\n"
     ]
    }
   ],
   "source": [
    "import pandas as pd\n",
    "from sklearn.preprocessing import StandardScaler\n",
    "from sklearn.model_selection import train_test_split\n",
    "from sklearn.impute import SimpleImputer\n",
    "\n",
    "df = pd.read_csv(\"accidents_cleaned.csv\")\n",
    "\n",
    "target_column = 'Accident_severity' \n",
    "X = df.drop(columns=[target_column]) \n",
    "y = df[target_column]  \n",
    "\n",
    "num_cols = X.select_dtypes(include=['float64', 'int64']).columns\n",
    "cat_cols = X.select_dtypes(exclude=['float64', 'int64']).columns  \n",
    "\n",
    "if not X[num_cols].isnull().values.any():\n",
    "    print(\"No missing values in numerical columns.\")\n",
    "else:\n",
    "    imputer_num = SimpleImputer(strategy='mean')\n",
    "    X[num_cols] = imputer_num.fit_transform(X[num_cols])\n",
    "\n",
    "if not X[cat_cols].isnull().values.any():\n",
    "    print(\"No missing values in categorical columns.\")\n",
    "else:\n",
    "    imputer_cat = SimpleImputer(strategy='most_frequent')\n",
    "    X[cat_cols] = imputer_cat.fit_transform(X[cat_cols])\n",
    "\n",
    "X_train, X_test, y_train, y_test = train_test_split(X, y, test_size=0.2, random_state=42)\n",
    "\n",
    "scaler = StandardScaler()\n",
    "X_train[num_cols] = scaler.fit_transform(X_train[num_cols])\n",
    "X_test[num_cols] = scaler.transform(X_test[num_cols])\n",
    "\n",
    "train_scaled = pd.concat([pd.DataFrame(X_train, columns=X.columns), y_train.reset_index(drop=True)], axis=1)\n",
    "test_scaled = pd.concat([pd.DataFrame(X_test, columns=X.columns), y_test.reset_index(drop=True)], axis=1)\n",
    "\n",
    "train_scaled.to_csv('train_scaled.csv', index=False)\n",
    "test_scaled.to_csv('test_scaled.csv', index=False)\n",
    "\n",
    "print(\"Scaling complete! Scaled data saved as 'train_scaled.csv' and 'test_scaled.csv'.\")\n",
    "print(\"Train scaled head:\\n\", train_scaled.head())\n",
    "print(\"Test scaled head:\\n\", test_scaled.head())"
   ]
  },
  {
   "cell_type": "code",
   "execution_count": 31,
   "id": "d3c18db5-3d7f-457c-90c6-406bee473a5e",
   "metadata": {},
   "outputs": [],
   "source": [
    "##------------member 05 - feature selection-----------------"
   ]
  },
  {
   "cell_type": "code",
   "execution_count": 32,
   "id": "97551fd4-56bd-421f-8ae4-40bbbb74a25d",
   "metadata": {},
   "outputs": [
    {
     "name": "stdout",
     "output_type": "stream",
     "text": [
      "(918, 39) (355, 39)\n",
      "Index(['Time', 'Day_of_week', 'Age_band_of_driver', 'Drivers_gender',\n",
      "       'Educational_level', 'Vehicle_driver_relation', 'Driving_experience',\n",
      "       'Type_of_vehicle', 'Owner_of_vehicle', 'Service_year_of_vehicle',\n",
      "       'Defect_of_vehicle', 'Area_accident_occured', 'Lanes_or_Medians',\n",
      "       'Road_allignment', 'Types_of_Junction', 'Road_surface_type',\n",
      "       'Road_surface_conditions', 'Type_of_collision',\n",
      "       'Number_of_vehicles_involved', 'Number_of_casualties',\n",
      "       'Vehicle_movement', 'Casualty_class', 'Casualty_gender',\n",
      "       'Age_band_of_casualty', 'Work_of_casuality', 'Fitness_of_casuality',\n",
      "       'Pedestrian_movement', 'Cause_of_accident', 'Weather_conditions_Normal',\n",
      "       'Weather_conditions_Other', 'Weather_conditions_Raining',\n",
      "       'Weather_conditions_Raining and Windy', 'Weather_conditions_Snow',\n",
      "       'Weather_conditions_Unknown', 'Weather_conditions_Windy',\n",
      "       'Light_conditions_Darkness - lights unlit',\n",
      "       'Light_conditions_Darkness - no lighting', 'Light_conditions_Daylight',\n",
      "       'Accident_severity'],\n",
      "      dtype='object')\n"
     ]
    }
   ],
   "source": [
    "import pandas as pd\n",
    "\n",
    "train = pd.read_csv(\"train_scaled.csv\")\n",
    "test = pd.read_csv(\"test_scaled.csv\")\n",
    "\n",
    "print(train.shape, test.shape)\n",
    "print(train.columns)"
   ]
  },
  {
   "cell_type": "code",
   "execution_count": 33,
   "id": "b17ac6ad-5cb7-48b8-8534-6463848733c5",
   "metadata": {},
   "outputs": [],
   "source": [
    "# Keep only numeric columns for correlation\n",
    "numeric_train = train.select_dtypes(include=['int64', 'float64'])\n"
   ]
  },
  {
   "cell_type": "code",
   "execution_count": 34,
   "id": "3e74a789-6f16-464f-8ffd-63e61b441ce4",
   "metadata": {},
   "outputs": [
    {
     "data": {
      "image/png": "[encoded data removed]",
      "text/plain": [
       "<Figure size 800x600 with 2 Axes>"
      ]
     },
     "metadata": {},
     "output_type": "display_data"
    },
    {
     "name": "stdout",
     "output_type": "stream",
     "text": [
      "Accident_severity              1.000000\n",
      "Number_of_vehicles_involved    0.026494\n",
      "Number_of_casualties          -0.035391\n",
      "Name: Accident_severity, dtype: float64\n"
     ]
    },
    {
     "data": {
      "image/png": "[encoded data removed]",
      "text/plain": [
       "<Figure size 800x400 with 1 Axes>"
      ]
     },
     "metadata": {},
     "output_type": "display_data"
    }
   ],
   "source": [
    "# Correlation with target (Accident_severity)\n",
    "import matplotlib.pyplot as plt\n",
    "import seaborn as sns\n",
    "\n",
    "# correlation matrix\n",
    "corr_matrix = numeric_train.corr()\n",
    "\n",
    "# heatmap\n",
    "plt.figure(figsize=(8,6))\n",
    "sns.heatmap(corr_matrix, cmap=\"coolwarm\", center=0)\n",
    "plt.title(\"Correlation Heatmap\")\n",
    "plt.show()\n",
    "\n",
    "# correlation with target\n",
    "correlation = corr_matrix[\"Accident_severity\"].sort_values(ascending=False)\n",
    "print(correlation)\n",
    "\n",
    "# bar plot\n",
    "correlation.drop(\"Accident_severity\").plot(kind=\"bar\", color=\"orange\", figsize=(8,4))\n",
    "plt.title(\"Feature Correlation with Accident Severity\")\n",
    "plt.show()\n"
   ]
  },
  {
   "cell_type": "code",
   "execution_count": 35,
   "id": "e23ec169-8ee3-4c0b-af83-2ac7f026b2e0",
   "metadata": {},
   "outputs": [
    {
     "name": "stdout",
     "output_type": "stream",
     "text": [
      "After correlation filter: (918, 37)\n"
     ]
    }
   ],
   "source": [
    "# Drop low-correlation features\n",
    "low_corr = correlation[abs(correlation) < 0.05].index\n",
    "train_corr_selected = train.drop(columns=low_corr, errors=\"ignore\")\n",
    "test_corr_selected = test.drop(columns=low_corr, errors=\"ignore\")\n",
    "\n",
    "print(\"After correlation filter:\", train_corr_selected.shape)\n"
   ]
  },
  {
   "cell_type": "code",
   "execution_count": 36,
   "id": "4c6bab68-4ad5-4944-b527-bb95d0ecf9d9",
   "metadata": {},
   "outputs": [
    {
     "name": "stdout",
     "output_type": "stream",
     "text": [
      "⚠️ No numeric columns available for variance selection.\n"
     ]
    }
   ],
   "source": [
    "from sklearn.feature_selection import VarianceThreshold\n",
    "import matplotlib.pyplot as plt\n",
    "\n",
    "# Keep only numeric columns (except target)\n",
    "X = train_corr_selected.drop(\"Accident_severity\", axis=1, errors=\"ignore\")\n",
    "X_numeric = X.select_dtypes(include=[\"int64\", \"float64\"])\n",
    "\n",
    "if X_numeric.shape[1] == 0:\n",
    "    print(\"⚠️ No numeric columns available for variance selection.\")\n",
    "else:\n",
    "    print(f\"Using {X_numeric.shape[1]} numeric features for variance selection.\")\n",
    "\n",
    "    # variance before\n",
    "    variances = X_numeric.var()\n",
    "    variances.plot(kind=\"bar\", figsize=(8,4), color=\"teal\")\n",
    "    plt.title(\"Variance Before Selection\")\n",
    "    plt.show()\n",
    "\n",
    "    # apply variance threshold\n",
    "    selector = VarianceThreshold(threshold=0.01)\n",
    "    X_selected = selector.fit_transform(X_numeric)\n",
    "\n",
    "    selected_features = X_numeric.columns[selector.get_support()]\n",
    "    print(\"Selected features:\", list(selected_features))\n",
    "\n",
    "    # variance after\n",
    "    variances_after = variances[selected_features]\n",
    "    variances_after.plot(kind=\"bar\", figsize=(8,4), color=\"green\")\n",
    "    plt.title(\"Variance After Selection\")\n",
    "    plt.show()\n"
   ]
  },
  {
   "cell_type": "code",
   "execution_count": 37,
   "id": "fe829aca-19e2-4651-a4e9-84f94abc73cb",
   "metadata": {},
   "outputs": [
    {
     "name": "stdout",
     "output_type": "stream",
     "text": [
      "⚠️ Variance threshold step did not produce X_selected/selected_features.\n",
      "Keeping correlation-selected features instead.\n",
      "Final shapes: (918, 37) (355, 37)\n",
      "✅ Correlation-selected datasets saved!\n"
     ]
    }
   ],
   "source": [
    "# If variance threshold worked, we should have X_selected and selected_features\n",
    "try:\n",
    "    train_selected = pd.concat(\n",
    "        [y.reset_index(drop=True),\n",
    "         pd.DataFrame(X_selected, columns=selected_features)],\n",
    "        axis=1\n",
    "    )\n",
    "    test_selected = test_corr_selected[selected_features]\n",
    "\n",
    "    print(\"Final shapes:\", train_selected.shape, test_selected.shape)\n",
    "\n",
    "    train_selected.to_csv(\"train_feature_selected.csv\", index=False)\n",
    "    test_selected.to_csv(\"test_feature_selected.csv\", index=False)\n",
    "    print(\"✅ Feature-selected datasets saved!\")\n",
    "\n",
    "except NameError:\n",
    "    print(\"⚠️ Variance threshold step did not produce X_selected/selected_features.\")\n",
    "    print(\"Keeping correlation-selected features instead.\")\n",
    "\n",
    "    train_selected = train_corr_selected.copy()\n",
    "    test_selected = test_corr_selected.copy()\n",
    "\n",
    "    print(\"Final shapes:\", train_selected.shape, test_selected.shape)\n",
    "\n",
    "    train_selected.to_csv(\"train_feature_selected.csv\", index=False)\n",
    "    test_selected.to_csv(\"test_feature_selected.csv\", index=False)\n",
    "    print(\"✅ Correlation-selected datasets saved!\")\n"
   ]
  },
  {
   "cell_type": "code",
   "execution_count": 38,
   "id": "a67cfbd3-c4b8-4de8-9f79-94fc92bcc695",
   "metadata": {},
   "outputs": [],
   "source": [
    "##-------------member 6 - Dimensionality Reduction (PCA)--------------------"
   ]
  },
  {
   "cell_type": "code",
   "execution_count": 39,
   "id": "a82affa1-9520-437d-be94-b358309de803",
   "metadata": {},
   "outputs": [
    {
     "name": "stdout",
     "output_type": "stream",
     "text": [
      "Train shape: (918, 37)\n",
      "Test shape: (355, 37)\n",
      "       Time Day_of_week Age_band_of_driver Drivers_gender   Educational_level  \\\n",
      "0   7:30:00     Tuesday              31-50           Male  Junior high school   \n",
      "1  16:20:00   Wednesday              31-50           Male   Elementary school   \n",
      "2  17:30:00     Tuesday              31-50           Male  Junior high school   \n",
      "3  20:15:00      Monday              31-50           Male   Elementary school   \n",
      "4   5:46:00      Friday              18-30           Male   Elementary school   \n",
      "\n",
      "  Vehicle_driver_relation Driving_experience      Type_of_vehicle  \\\n",
      "0                Employee              1-2yr           Automobile   \n",
      "1                   Owner              2-5yr      Lorry (41?100Q)   \n",
      "2                Employee              2-5yr  Public (> 45 seats)   \n",
      "3                Employee              2-5yr           Automobile   \n",
      "4                Employee             5-10yr     Pick up upto 10Q   \n",
      "\n",
      "  Owner_of_vehicle Service_year_of_vehicle  ... Weather_conditions_Other  \\\n",
      "0            Owner                 5-10yrs  ...                    False   \n",
      "1            Owner                 Unknown  ...                    False   \n",
      "2            Owner                  2-5yrs  ...                    False   \n",
      "3            Owner                  2-5yrs  ...                    False   \n",
      "4            Owner                 Unknown  ...                    False   \n",
      "\n",
      "  Weather_conditions_Raining Weather_conditions_Raining and Windy  \\\n",
      "0                      False                                False   \n",
      "1                      False                                False   \n",
      "2                      False                                False   \n",
      "3                      False                                False   \n",
      "4                      False                                False   \n",
      "\n",
      "  Weather_conditions_Snow Weather_conditions_Unknown Weather_conditions_Windy  \\\n",
      "0                   False                      False                    False   \n",
      "1                   False                      False                    False   \n",
      "2                   False                      False                    False   \n",
      "3                   False                      False                    False   \n",
      "4                   False                      False                    False   \n",
      "\n",
      "  Light_conditions_Darkness - lights unlit  \\\n",
      "0                                    False   \n",
      "1                                    False   \n",
      "2                                    False   \n",
      "3                                    False   \n",
      "4                                    False   \n",
      "\n",
      "  Light_conditions_Darkness - no lighting Light_conditions_Daylight  \\\n",
      "0                                   False                      True   \n",
      "1                                   False                      True   \n",
      "2                                   False                      True   \n",
      "3                                    True                     False   \n",
      "4                                   False                      True   \n",
      "\n",
      "  Accident_severity  \n",
      "0               2.0  \n",
      "1               1.0  \n",
      "2               0.0  \n",
      "3               3.0  \n",
      "4               2.0  \n",
      "\n",
      "[5 rows x 37 columns]\n"
     ]
    }
   ],
   "source": [
    "# Load the feature-selected datasets\n",
    "import pandas as pd\n",
    "\n",
    "train = pd.read_csv(\"train_feature_selected.csv\")\n",
    "test = pd.read_csv(\"test_feature_selected.csv\")\n",
    "\n",
    "print(\"Train shape:\", train.shape)\n",
    "print(\"Test shape:\", test.shape)\n",
    "print(train.head())\n",
    "\n",
    "train = pd.read_csv(\"train_feature_selected.csv\")\n",
    "test = pd.read_csv(\"test_feature_selected.csv\")\n"
   ]
  },
  {
   "cell_type": "code",
   "execution_count": 40,
   "id": "22a23d9a-2d78-4304-9f7d-5de9e4b5f116",
   "metadata": {},
   "outputs": [],
   "source": [
    "# Separate features and target\n",
    "target_col = \"Accident_severity\"   # change if different\n",
    "X_train = train.drop(columns=[target_col])\n",
    "y_train = train[target_col]\n",
    "\n",
    "X_test = test.drop(columns=[target_col], errors=\"ignore\")  # in case test has no target\n"
   ]
  },
  {
   "cell_type": "code",
   "execution_count": 41,
   "id": "6b0ac5e0-c708-4ddd-b3a9-2fba113f3615",
   "metadata": {},
   "outputs": [
    {
     "name": "stdout",
     "output_type": "stream",
     "text": [
      "Numeric train features: 12\n",
      "Numeric test features: 12\n"
     ]
    }
   ],
   "source": [
    "target_col = \"Accident_severity\"   # adjust if needed\n",
    "\n",
    "# Separate target and features\n",
    "X_train = train.drop(columns=[target_col], errors=\"ignore\")\n",
    "y_train = train[target_col]\n",
    "\n",
    "X_test = test.drop(columns=[target_col], errors=\"ignore\")\n",
    "\n",
    "# Convert all feature columns to numeric (if stored as strings)\n",
    "X_train = X_train.apply(pd.to_numeric, errors=\"coerce\")\n",
    "X_test = X_test.apply(pd.to_numeric, errors=\"coerce\")\n",
    "\n",
    "# Drop any constant/empty columns\n",
    "X_train = X_train.dropna(axis=1, how=\"all\")\n",
    "X_test = X_test.dropna(axis=1, how=\"all\")\n",
    "\n",
    "print(\"Numeric train features:\", X_train.shape[1])\n",
    "print(\"Numeric test features:\", X_test.shape[1])\n"
   ]
  },
  {
   "cell_type": "code",
   "execution_count": 42,
   "id": "111ad71e-47e3-471a-a78e-36c26a3829ef",
   "metadata": {},
   "outputs": [
    {
     "name": "stdout",
     "output_type": "stream",
     "text": [
      "Remaining NaN in train: 0\n",
      "Remaining NaN in test : 0\n"
     ]
    }
   ],
   "source": [
    "# Fill NaN with column mean\n",
    "X_train = X_train.fillna(X_train.mean())\n",
    "X_test = X_test.fillna(X_test.mean())\n",
    "\n",
    "print(\"Remaining NaN in train:\", X_train.isna().sum().sum())\n",
    "print(\"Remaining NaN in test :\", X_test.isna().sum().sum())\n"
   ]
  },
  {
   "cell_type": "code",
   "execution_count": 43,
   "id": "810053e4-56e5-414a-be95-e37d5dc946bd",
   "metadata": {},
   "outputs": [],
   "source": [
    "from sklearn.preprocessing import StandardScaler\n",
    "\n",
    "scaler = StandardScaler()\n",
    "X_train_scaled = scaler.fit_transform(X_train)\n",
    "X_test_scaled = scaler.transform(X_test)\n"
   ]
  },
  {
   "cell_type": "code",
   "execution_count": 44,
   "id": "20aaaa9e-99e0-43e4-9e32-11f7ce5a1645",
   "metadata": {},
   "outputs": [
    {
     "name": "stdout",
     "output_type": "stream",
     "text": [
      "Cumulative explained variance by components:\n",
      " [0.17604293 0.29174927 0.38727774 0.48112475 0.57342977 0.66472474\n",
      " 0.75575779 0.84637485 0.93399107 0.99522229 1.         1.        ]\n",
      "✅ Number of components for >=85% variance: 9\n"
     ]
    }
   ],
   "source": [
    "from sklearn.decomposition import PCA\n",
    "import numpy as np\n",
    "\n",
    "# Fit PCA with all components\n",
    "pca_full = PCA()\n",
    "pca_full.fit(X_train_scaled)\n",
    "\n",
    "# Cumulative explained variance\n",
    "explained_var = np.cumsum(pca_full.explained_variance_ratio_)\n",
    "print(\"Cumulative explained variance by components:\\n\", explained_var)\n",
    "\n",
    "# Number of components needed for ≥85% variance\n",
    "n_components = np.argmax(explained_var >= 0.85) + 1\n",
    "print(f\"✅ Number of components for >=85% variance: {n_components}\")\n"
   ]
  },
  {
   "cell_type": "code",
   "execution_count": 45,
   "id": "addc1fda-6b7b-43fb-9175-7f6422936b4c",
   "metadata": {},
   "outputs": [
    {
     "name": "stdout",
     "output_type": "stream",
     "text": [
      "Train PCA shape: (918, 9)\n",
      "Test PCA shape: (355, 9)\n"
     ]
    }
   ],
   "source": [
    "pca = PCA(n_components=n_components)\n",
    "X_train_pca = pca.fit_transform(X_train_scaled)\n",
    "X_test_pca = pca.transform(X_test_scaled)\n",
    "\n",
    "print(\"Train PCA shape:\", X_train_pca.shape)\n",
    "print(\"Test PCA shape:\", X_test_pca.shape)\n"
   ]
  },
  {
   "cell_type": "code",
   "execution_count": 46,
   "id": "468c0fdd-cef7-43b2-82f5-f3f7827289f0",
   "metadata": {},
   "outputs": [
    {
     "name": "stdout",
     "output_type": "stream",
     "text": [
      "✅ Saved 'train_pca.csv' and 'test_pca.csv'\n"
     ]
    }
   ],
   "source": [
    "# Create DataFrames with PC names\n",
    "train_pca = pd.DataFrame(X_train_pca, columns=[f\"PC{i+1}\" for i in range(n_components)])\n",
    "train_pca[target_col] = y_train.values\n",
    "\n",
    "test_pca = pd.DataFrame(X_test_pca, columns=[f\"PC{i+1}\" for i in range(n_components)])\n",
    "if target_col in test.columns:\n",
    "    test_pca[target_col] = test[target_col].values\n",
    "\n",
    "# Save\n",
    "train_pca.to_csv(\"train_pca.csv\", index=False)\n",
    "test_pca.to_csv(\"test_pca.csv\", index=False)\n",
    "\n",
    "print(\"✅ Saved 'train_pca.csv' and 'test_pca.csv'\")\n"
   ]
  },
  {
   "cell_type": "code",
   "execution_count": 47,
   "id": "0b32c5cc-e890-47a7-82f5-8002a777ca32",
   "metadata": {},
   "outputs": [
    {
     "data": {
      "image/png": "[encoded data removed]",
      "text/plain": [
       "<Figure size 800x600 with 1 Axes>"
      ]
     },
     "metadata": {},
     "output_type": "display_data"
    }
   ],
   "source": [
    "import matplotlib.pyplot as plt\n",
    "import seaborn as sns\n",
    "\n",
    "# Force 2D PCA for visualization\n",
    "pca_2d = PCA(n_components=2)\n",
    "X_train_pca2d = pca_2d.fit_transform(X_train_scaled)\n",
    "\n",
    "# Build DataFrame\n",
    "pca_df = pd.DataFrame(X_train_pca2d, columns=['PC1', 'PC2'])\n",
    "pca_df[target_col] = y_train.values\n",
    "\n",
    "# Plot\n",
    "plt.figure(figsize=(8,6))\n",
    "sns.scatterplot(data=pca_df, x='PC1', y='PC2', hue=target_col,\n",
    "                palette='viridis', alpha=0.7)\n",
    "plt.title(\"PCA - First Two Components (2D Scatter)\")\n",
    "plt.xlabel(\"PC1\")\n",
    "plt.ylabel(\"PC2\")\n",
    "plt.legend(title=\"Severity\")\n",
    "plt.show()\n"
   ]
  },
  {
   "cell_type": "code",
   "execution_count": null,
   "id": "72bbb6fc-2f1c-4d51-8688-d7e436c76e1b",
   "metadata": {},
   "outputs": [],
   "source": []
  },
  {
   "cell_type": "code",
   "execution_count": null,
   "id": "c7e555c2-14fa-4da5-80e8-f7b6a169526b",
   "metadata": {},
   "outputs": [],
   "source": []
  },
  {
   "cell_type": "code",
   "execution_count": null,
   "id": "2b562b1d-d3c1-4429-85a4-7ea49747803a",
   "metadata": {},
   "outputs": [],
   "source": []
  },
  {
   "cell_type": "code",
   "execution_count": null,
   "id": "c255ba1c-de02-41ee-8485-072ecb2dc294",
   "metadata": {},
   "outputs": [],
   "source": []
  }
 ],
 "metadata": {
  "kernelspec": {
   "display_name": "Python [conda env:base] *",
   "language": "python",
   "name": "conda-base-py"
  },
  "language_info": {
   "codemirror_mode": {
    "name": "ipython",
    "version": 3
   },
   "file_extension": ".py",
   "mimetype": "text/x-python",
   "name": "python",
   "nbconvert_exporter": "python",
   "pygments_lexer": "ipython3",
   "version": "3.13.5"
  }
 },
 "nbformat": 4,
 "nbformat_minor": 5
}
