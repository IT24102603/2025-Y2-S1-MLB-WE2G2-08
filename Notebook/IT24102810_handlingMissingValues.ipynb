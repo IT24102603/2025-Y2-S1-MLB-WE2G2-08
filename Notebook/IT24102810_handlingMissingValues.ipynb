{
 "cells": [
  {
   "cell_type": "code",
   "execution_count": 1,
   "id": "bae4829e-aea4-4521-abaa-9253537c238c",
   "metadata": {},
   "outputs": [],
   "source": [
    "# Import required libraries\n",
    "import pandas as pd\n",
    "import numpy as np"
   ]
  },
  {
   "cell_type": "code",
   "execution_count": 3,
   "id": "fd02b8d6-fdb0-48cc-b5ae-d228a44c65a0",
   "metadata": {},
   "outputs": [],
   "source": [
    "# Step 1: Load the Dataset\n",
    "# Replace 'Addis_Ababa_city_RTA.csv' with your actual file path\n",
    "df = pd.read_csv('Addis Abbaba City Data set.csv')"
   ]
  },
  {
   "cell_type": "code",
   "execution_count": 4,
   "id": "2e5feb90-8904-42c6-8725-1f3a8d002433",
   "metadata": {},
   "outputs": [],
   "source": [
    "# Step 2: Identify Missing Values\n",
    "# Convert 'na', 'Unknown', and empty strings to np.nan\n",
    "df.replace(['na', 'Unknown', ''], np.nan, inplace=True)"
   ]
  },
  {
   "cell_type": "code",
   "execution_count": 5,
   "id": "c92cf2b0-cf85-4d58-a1d2-14585da5e3da",
   "metadata": {},
   "outputs": [
    {
     "name": "stdout",
     "output_type": "stream",
     "text": [
      "Missing Values Before Handling:\n",
      " Time                             0\n",
      "Day_of_week                      0\n",
      "Age_band_of_driver             143\n",
      "Drivers_gender                   0\n",
      "Educational_level               14\n",
      "Vehicle_driver_relation          6\n",
      "Driving_experience              21\n",
      "Type_of_vehicle                  0\n",
      "Owner_of_vehicle                 0\n",
      "Service_year_of_vehicle        352\n",
      "Defect_of_vehicle              348\n",
      "Area_accident_occured           14\n",
      "Lanes_or_Medians                27\n",
      "Road_allignment                  6\n",
      "Types_of_Junction                0\n",
      "Road_surface_type                0\n",
      "Road_surface_conditions          0\n",
      "Light_conditions                 0\n",
      "Weather_conditions              17\n",
      "Type_of_collision               14\n",
      "Number_of_vehicles_involved      0\n",
      "Number_of_casualties             0\n",
      "Vehicle_movement                18\n",
      "Casualty_class                 384\n",
      "Casualty_gender                384\n",
      "Age_band_of_casualty           384\n",
      "Work_of_casuality                4\n",
      "Fitness_of_casuality             0\n",
      "Pedestrian_movement              0\n",
      "Cause_of_accident                2\n",
      "Accident_severity                0\n",
      "dtype: int64\n"
     ]
    }
   ],
   "source": [
    "# Display initial missing value counts\n",
    "print(\"Missing Values Before Handling:\\n\", df.isnull().sum())"
   ]
  },
  {
   "cell_type": "code",
   "execution_count": 6,
   "id": "3be83ef3-ac08-4125-981c-4fabed29adb6",
   "metadata": {},
   "outputs": [
    {
     "name": "stdout",
     "output_type": "stream",
     "text": [
      "\n",
      "Percentage of Missing Values:\n",
      " Time                            0.000000\n",
      "Day_of_week                     0.000000\n",
      "Age_band_of_driver             13.684211\n",
      "Drivers_gender                  0.000000\n",
      "Educational_level               1.339713\n",
      "Vehicle_driver_relation         0.574163\n",
      "Driving_experience              2.009569\n",
      "Type_of_vehicle                 0.000000\n",
      "Owner_of_vehicle                0.000000\n",
      "Service_year_of_vehicle        33.684211\n",
      "Defect_of_vehicle              33.301435\n",
      "Area_accident_occured           1.339713\n",
      "Lanes_or_Medians                2.583732\n",
      "Road_allignment                 0.574163\n",
      "Types_of_Junction               0.000000\n",
      "Road_surface_type               0.000000\n",
      "Road_surface_conditions         0.000000\n",
      "Light_conditions                0.000000\n",
      "Weather_conditions              1.626794\n",
      "Type_of_collision               1.339713\n",
      "Number_of_vehicles_involved     0.000000\n",
      "Number_of_casualties            0.000000\n",
      "Vehicle_movement                1.722488\n",
      "Casualty_class                 36.746411\n",
      "Casualty_gender                36.746411\n",
      "Age_band_of_casualty           36.746411\n",
      "Work_of_casuality               0.382775\n",
      "Fitness_of_casuality            0.000000\n",
      "Pedestrian_movement             0.000000\n",
      "Cause_of_accident               0.191388\n",
      "Accident_severity               0.000000\n",
      "dtype: float64\n"
     ]
    }
   ],
   "source": [
    "# Display percentage of missing values per column\n",
    "missing_percent = df.isnull().sum() / len(df) * 100\n",
    "print(\"\\nPercentage of Missing Values:\\n\", missing_percent)"
   ]
  },
  {
   "cell_type": "code",
   "execution_count": 7,
   "id": "c28326a5-84e9-4b5e-b700-6b145b3b970a",
   "metadata": {},
   "outputs": [
    {
     "name": "stdout",
     "output_type": "stream",
     "text": [
      "\n",
      "Columns Dropped Due to >50% Missing Values: []\n"
     ]
    }
   ],
   "source": [
    "# Step 3: Drop Columns with Excessive Missing Values (e.g., >50%)\n",
    "threshold = 0.5 * len(df)  # 50% threshold\n",
    "df = df.dropna(thresh=threshold, axis=1)  # Drop columns with >50% missing\n",
    "print(\"\\nColumns Dropped Due to >50% Missing Values:\", [col for col in df.columns if col not in df.columns])"
   ]
  },
  {
   "cell_type": "code",
   "execution_count": 8,
   "id": "f8683503-054c-41a5-81b4-ced6aef74bd6",
   "metadata": {},
   "outputs": [],
   "source": [
    "# Step 4: Handle Remaining Missing Values\n",
    "# Separate numerical and categorical columns\n",
    "num_cols = df.select_dtypes(include=['int64', 'float64']).columns\n",
    "cat_cols = df.select_dtypes(include=['object']).columns"
   ]
  },
  {
   "cell_type": "code",
   "execution_count": 9,
   "id": "05ffb9de-754b-4b4a-9f8e-39a7ffbbbe10",
   "metadata": {},
   "outputs": [],
   "source": [
    "# Impute numerical columns with median (robust to outliers)\n",
    "from sklearn.impute import SimpleImputer\n",
    "num_imputer = SimpleImputer(strategy='median')\n",
    "df[num_cols] = num_imputer.fit_transform(df[num_cols])"
   ]
  },
  {
   "cell_type": "code",
   "execution_count": 10,
   "id": "f1d872cd-7c68-4c06-ba93-498dcbaf26fb",
   "metadata": {},
   "outputs": [],
   "source": [
    "# Impute categorical columns with mode (most frequent value)\n",
    "cat_imputer = SimpleImputer(strategy='most_frequent')\n",
    "df[cat_cols] = cat_imputer.fit_transform(df[cat_cols])"
   ]
  },
  {
   "cell_type": "code",
   "execution_count": 11,
   "id": "a267cd3f-71e5-4b41-abfa-2fd628f14b5d",
   "metadata": {},
   "outputs": [],
   "source": [
    "# Optionally, handle missing target variable (Accident_severity) by dropping rows\n",
    "# Only do this if missingness is minimal and target is critical\n",
    "if 'Accident_severity' in df.columns:\n",
    "    df = df.dropna(subset=['Accident_severity'])"
   ]
  },
  {
   "cell_type": "code",
   "execution_count": 12,
   "id": "75d0929f-30c2-4fa8-9274-e2a9a483e835",
   "metadata": {},
   "outputs": [
    {
     "name": "stdout",
     "output_type": "stream",
     "text": [
      "\n",
      "Missing Values After Handling:\n",
      " Time                           0\n",
      "Day_of_week                    0\n",
      "Age_band_of_driver             0\n",
      "Drivers_gender                 0\n",
      "Educational_level              0\n",
      "Vehicle_driver_relation        0\n",
      "Driving_experience             0\n",
      "Type_of_vehicle                0\n",
      "Owner_of_vehicle               0\n",
      "Service_year_of_vehicle        0\n",
      "Defect_of_vehicle              0\n",
      "Area_accident_occured          0\n",
      "Lanes_or_Medians               0\n",
      "Road_allignment                0\n",
      "Types_of_Junction              0\n",
      "Road_surface_type              0\n",
      "Road_surface_conditions        0\n",
      "Light_conditions               0\n",
      "Weather_conditions             0\n",
      "Type_of_collision              0\n",
      "Number_of_vehicles_involved    0\n",
      "Number_of_casualties           0\n",
      "Vehicle_movement               0\n",
      "Casualty_class                 0\n",
      "Casualty_gender                0\n",
      "Age_band_of_casualty           0\n",
      "Work_of_casuality              0\n",
      "Fitness_of_casuality           0\n",
      "Pedestrian_movement            0\n",
      "Cause_of_accident              0\n",
      "Accident_severity              0\n",
      "dtype: int64\n"
     ]
    }
   ],
   "source": [
    "# Verify No Missing Values Remain\n",
    "print(\"\\nMissing Values After Handling:\\n\", df.isnull().sum())"
   ]
  },
  {
   "cell_type": "code",
   "execution_count": 13,
   "id": "4898affb-c9a0-41bc-8334-067cba47ff99",
   "metadata": {},
   "outputs": [
    {
     "name": "stdout",
     "output_type": "stream",
     "text": [
      "\n",
      "First 5 Rows After Handling Missing Data:\n",
      "        Time Day_of_week Age_band_of_driver Drivers_gender   Educational_level  \\\n",
      "0  17:20:00      Friday              18-30           Male  Junior high school   \n",
      "1  17:45:00    Thursday              18-30           Male  Junior high school   \n",
      "2  17:45:00    Thursday              31-50           Male  Junior high school   \n",
      "3  18:36:00   Wednesday              18-30           Male  Junior high school   \n",
      "4  14:35:00      Friday              18-30           Male   Above high school   \n",
      "\n",
      "  Vehicle_driver_relation Driving_experience      Type_of_vehicle  \\\n",
      "0                Employee         Above 10yr      Lorry (41?100Q)   \n",
      "1                Employee              1-2yr  Public (> 45 seats)   \n",
      "2                Employee             5-10yr      Lorry (41?100Q)   \n",
      "3                Employee              2-5yr                 Taxi   \n",
      "4                Employee              2-5yr           Automobile   \n",
      "\n",
      "  Owner_of_vehicle Service_year_of_vehicle  ... Number_of_casualties  \\\n",
      "0            Owner                   1-2yr  ...                  1.0   \n",
      "1            Owner                  2-5yrs  ...                  2.0   \n",
      "2            Owner              Above 10yr  ...                  2.0   \n",
      "3            Owner              Above 10yr  ...                  3.0   \n",
      "4            Owner                  2-5yrs  ...                  1.0   \n",
      "\n",
      "  Vehicle_movement   Casualty_class Casualty_gender Age_band_of_casualty  \\\n",
      "0   Going straight       Pedestrian            Male             Under 18   \n",
      "1   Going straight  Driver or rider            Male                18-30   \n",
      "2    Waiting to go  Driver or rider            Male                18-30   \n",
      "3   Going straight  Driver or rider          Female                31-50   \n",
      "4   Going straight  Driver or rider            Male                18-30   \n",
      "\n",
      "  Work_of_casuality Fitness_of_casuality              Pedestrian_movement  \\\n",
      "0            Driver               Normal  Crossing from driver's nearside   \n",
      "1            Driver               Normal                 Not a Pedestrian   \n",
      "2             Other               Normal                 Not a Pedestrian   \n",
      "3     Self-employed               Normal                 Not a Pedestrian   \n",
      "4            Driver               Normal                 Not a Pedestrian   \n",
      "\n",
      "            Cause_of_accident Accident_severity  \n",
      "0  Changing lane to the right     Slight Injury  \n",
      "1               No distancing     Slight Injury  \n",
      "2      No priority to vehicle     Slight Injury  \n",
      "3                       Other     Slight Injury  \n",
      "4  Changing lane to the right     Slight Injury  \n",
      "\n",
      "[5 rows x 31 columns]\n",
      "\n",
      "Summary Stats After Handling:\n",
      "        Number_of_vehicles_involved  Number_of_casualties\n",
      "count                  1045.000000           1045.000000\n",
      "mean                      2.024880              1.563636\n",
      "std                       0.708023              1.076134\n",
      "min                       1.000000              1.000000\n",
      "25%                       2.000000              1.000000\n",
      "50%                       2.000000              1.000000\n",
      "75%                       2.000000              2.000000\n",
      "max                       7.000000              6.000000\n"
     ]
    }
   ],
   "source": [
    "#Inspect Data After Handling\n",
    "print(\"\\nFirst 5 Rows After Handling Missing Data:\\n\", df.head())\n",
    "print(\"\\nSummary Stats After Handling:\\n\", df.describe())"
   ]
  },
  {
   "cell_type": "code",
   "execution_count": null,
   "id": "3894d483-fbf3-4e7c-894f-dec17b079859",
   "metadata": {},
   "outputs": [],
   "source": []
  },
  {
   "cell_type": "code",
   "execution_count": null,
   "id": "766e7df9-bb93-4cea-b124-9eb07cf9958b",
   "metadata": {},
   "outputs": [],
   "source": [
    "--------------Member 02 - Encoding Categorical Varieables-----------------"
   ]
  },
  {
   "cell_type": "code",
   "execution_count": null,
   "id": "974c09b9-5ebc-4c87-ae2c-4205125f8496",
   "metadata": {},
   "outputs": [],
   "source": []
  },
  {
   "cell_type": "code",
   "execution_count": null,
   "id": "dbc4c84f-d434-4c5d-a0fe-c2bce07c17dd",
   "metadata": {},
   "outputs": [],
   "source": []
  },
  {
   "cell_type": "code",
   "execution_count": null,
   "id": "80c0374e-1e13-423a-a04b-ff290de383ad",
   "metadata": {},
   "outputs": [],
   "source": []
  }
 ],
 "metadata": {
  "kernelspec": {
   "display_name": "Python [conda env:base] *",
   "language": "python",
   "name": "conda-base-py"
  },
  "language_info": {
   "codemirror_mode": {
    "name": "ipython",
    "version": 3
   },
   "file_extension": ".py",
   "mimetype": "text/x-python",
   "name": "python",
   "nbconvert_exporter": "python",
   "pygments_lexer": "ipython3",
   "version": "3.13.5"
  }
 },
 "nbformat": 4,
 "nbformat_minor": 5
}
