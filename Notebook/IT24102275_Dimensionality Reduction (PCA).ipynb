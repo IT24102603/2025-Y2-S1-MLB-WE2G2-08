{
 "cells": [
  {
   "cell_type": "code",
   "execution_count": 4,
   "id": "35c291e1-6eee-450c-99d4-aae89f30e9db",
   "metadata": {},
   "outputs": [
    {
     "name": "stdout",
     "output_type": "stream",
     "text": [
      "Train shape: (918, 37)\n",
      "Test shape: (355, 37)\n",
      "       Time Day_of_week Age_band_of_driver Drivers_gender   Educational_level  \\\n",
      "0   7:30:00     Tuesday              31-50           Male  Junior high school   \n",
      "1  16:20:00   Wednesday              31-50           Male   Elementary school   \n",
      "2  17:30:00     Tuesday              31-50           Male  Junior high school   \n",
      "3  20:15:00      Monday              31-50           Male   Elementary school   \n",
      "4   5:46:00      Friday              18-30           Male   Elementary school   \n",
      "\n",
      "  Vehicle_driver_relation Driving_experience      Type_of_vehicle  \\\n",
      "0                Employee              1-2yr           Automobile   \n",
      "1                   Owner              2-5yr      Lorry (41?100Q)   \n",
      "2                Employee              2-5yr  Public (> 45 seats)   \n",
      "3                Employee              2-5yr           Automobile   \n",
      "4                Employee             5-10yr     Pick up upto 10Q   \n",
      "\n",
      "  Owner_of_vehicle Service_year_of_vehicle  ... Weather_conditions_Other  \\\n",
      "0            Owner                 5-10yrs  ...                    False   \n",
      "1            Owner                 Unknown  ...                    False   \n",
      "2            Owner                  2-5yrs  ...                    False   \n",
      "3            Owner                  2-5yrs  ...                    False   \n",
      "4            Owner                 Unknown  ...                    False   \n",
      "\n",
      "  Weather_conditions_Raining Weather_conditions_Raining and Windy  \\\n",
      "0                      False                                False   \n",
      "1                      False                                False   \n",
      "2                      False                                False   \n",
      "3                      False                                False   \n",
      "4                      False                                False   \n",
      "\n",
      "  Weather_conditions_Snow Weather_conditions_Unknown Weather_conditions_Windy  \\\n",
      "0                   False                      False                    False   \n",
      "1                   False                      False                    False   \n",
      "2                   False                      False                    False   \n",
      "3                   False                      False                    False   \n",
      "4                   False                      False                    False   \n",
      "\n",
      "  Light_conditions_Darkness - lights unlit  \\\n",
      "0                                    False   \n",
      "1                                    False   \n",
      "2                                    False   \n",
      "3                                    False   \n",
      "4                                    False   \n",
      "\n",
      "  Light_conditions_Darkness - no lighting Light_conditions_Daylight  \\\n",
      "0                                   False                      True   \n",
      "1                                   False                      True   \n",
      "2                                   False                      True   \n",
      "3                                    True                     False   \n",
      "4                                   False                      True   \n",
      "\n",
      "  Accident_severity  \n",
      "0               2.0  \n",
      "1               1.0  \n",
      "2               0.0  \n",
      "3               3.0  \n",
      "4               2.0  \n",
      "\n",
      "[5 rows x 37 columns]\n"
     ]
    }
   ],
   "source": [
    "# Load the feature-selected datasets\n",
    "import pandas as pd\n",
    "\n",
    "train = pd.read_csv(\"train_feature_selected.csv\")\n",
    "test = pd.read_csv(\"test_feature_selected.csv\")\n",
    "\n",
    "print(\"Train shape:\", train.shape)\n",
    "print(\"Test shape:\", test.shape)\n",
    "print(train.head())\n",
    "\n",
    "train = pd.read_csv(\"train_feature_selected.csv\")\n",
    "test = pd.read_csv(\"test_feature_selected.csv\")\n"
   ]
  },
  {
   "cell_type": "code",
   "execution_count": 2,
   "id": "97069ffd-52ce-4373-9e08-1f2f417faeda",
   "metadata": {},
   "outputs": [],
   "source": [
    "# Separate features and target\n",
    "target_col = \"Accident_severity\"   # change if different\n",
    "X_train = train.drop(columns=[target_col])\n",
    "y_train = train[target_col]\n",
    "\n",
    "X_test = test.drop(columns=[target_col], errors=\"ignore\")  # in case test has no target\n"
   ]
  },
  {
   "cell_type": "code",
   "execution_count": 8,
   "id": "acc328b5-2074-41e2-8508-a9c764ee1174",
   "metadata": {},
   "outputs": [
    {
     "name": "stdout",
     "output_type": "stream",
     "text": [
      "Numeric train features: 12\n",
      "Numeric test features: 12\n"
     ]
    }
   ],
   "source": [
    "target_col = \"Accident_severity\"   # adjust if needed\n",
    "\n",
    "# Separate target and features\n",
    "X_train = train.drop(columns=[target_col], errors=\"ignore\")\n",
    "y_train = train[target_col]\n",
    "\n",
    "X_test = test.drop(columns=[target_col], errors=\"ignore\")\n",
    "\n",
    "# Convert all feature columns to numeric (if stored as strings)\n",
    "X_train = X_train.apply(pd.to_numeric, errors=\"coerce\")\n",
    "X_test = X_test.apply(pd.to_numeric, errors=\"coerce\")\n",
    "\n",
    "# Drop any constant/empty columns\n",
    "X_train = X_train.dropna(axis=1, how=\"all\")\n",
    "X_test = X_test.dropna(axis=1, how=\"all\")\n",
    "\n",
    "print(\"Numeric train features:\", X_train.shape[1])\n",
    "print(\"Numeric test features:\", X_test.shape[1])\n"
   ]
  },
  {
   "cell_type": "code",
   "execution_count": 13,
   "id": "e1e4926b-f1d0-4b8c-a49c-fae5c5a16c47",
   "metadata": {},
   "outputs": [
    {
     "name": "stdout",
     "output_type": "stream",
     "text": [
      "Remaining NaN in train: 0\n",
      "Remaining NaN in test : 0\n"
     ]
    }
   ],
   "source": [
    "# Fill NaN with column mean\n",
    "X_train = X_train.fillna(X_train.mean())\n",
    "X_test = X_test.fillna(X_test.mean())\n",
    "\n",
    "print(\"Remaining NaN in train:\", X_train.isna().sum().sum())\n",
    "print(\"Remaining NaN in test :\", X_test.isna().sum().sum())\n"
   ]
  },
  {
   "cell_type": "code",
   "execution_count": 14,
   "id": "6c1b7e61-7ef4-48db-a691-4d9568b6326b",
   "metadata": {},
   "outputs": [],
   "source": [
    "from sklearn.preprocessing import StandardScaler\n",
    "\n",
    "scaler = StandardScaler()\n",
    "X_train_scaled = scaler.fit_transform(X_train)\n",
    "X_test_scaled = scaler.transform(X_test)\n"
   ]
  },
  {
   "cell_type": "code",
   "execution_count": 15,
   "id": "391e8caa-c745-431e-98e6-3808058ed71c",
   "metadata": {},
   "outputs": [
    {
     "name": "stdout",
     "output_type": "stream",
     "text": [
      "Cumulative explained variance by components:\n",
      " [0.17604293 0.29174927 0.38727774 0.48112475 0.57342977 0.66472474\n",
      " 0.75575779 0.84637485 0.93399107 0.99522229 1.         1.        ]\n",
      "✅ Number of components for >=85% variance: 9\n"
     ]
    }
   ],
   "source": [
    "from sklearn.decomposition import PCA\n",
    "import numpy as np\n",
    "\n",
    "# Fit PCA with all components\n",
    "pca_full = PCA()\n",
    "pca_full.fit(X_train_scaled)\n",
    "\n",
    "# Cumulative explained variance\n",
    "explained_var = np.cumsum(pca_full.explained_variance_ratio_)\n",
    "print(\"Cumulative explained variance by components:\\n\", explained_var)\n",
    "\n",
    "# Number of components needed for ≥85% variance\n",
    "n_components = np.argmax(explained_var >= 0.85) + 1\n",
    "print(f\"✅ Number of components for >=85% variance: {n_components}\")\n"
   ]
  },
  {
   "cell_type": "code",
   "execution_count": 16,
   "id": "b0212098-1202-4685-a576-643e50cb8973",
   "metadata": {},
   "outputs": [
    {
     "name": "stdout",
     "output_type": "stream",
     "text": [
      "Train PCA shape: (918, 9)\n",
      "Test PCA shape: (355, 9)\n"
     ]
    }
   ],
   "source": [
    "pca = PCA(n_components=n_components)\n",
    "X_train_pca = pca.fit_transform(X_train_scaled)\n",
    "X_test_pca = pca.transform(X_test_scaled)\n",
    "\n",
    "print(\"Train PCA shape:\", X_train_pca.shape)\n",
    "print(\"Test PCA shape:\", X_test_pca.shape)\n"
   ]
  },
  {
   "cell_type": "code",
   "execution_count": 17,
   "id": "52eac498-f79d-4f52-b966-968618c8738b",
   "metadata": {},
   "outputs": [
    {
     "name": "stdout",
     "output_type": "stream",
     "text": [
      "✅ Saved 'train_pca.csv' and 'test_pca.csv'\n"
     ]
    }
   ],
   "source": [
    "# Create DataFrames with PC names\n",
    "train_pca = pd.DataFrame(X_train_pca, columns=[f\"PC{i+1}\" for i in range(n_components)])\n",
    "train_pca[target_col] = y_train.values\n",
    "\n",
    "test_pca = pd.DataFrame(X_test_pca, columns=[f\"PC{i+1}\" for i in range(n_components)])\n",
    "if target_col in test.columns:\n",
    "    test_pca[target_col] = test[target_col].values\n",
    "\n",
    "# Save\n",
    "train_pca.to_csv(\"train_pca.csv\", index=False)\n",
    "test_pca.to_csv(\"test_pca.csv\", index=False)\n",
    "\n",
    "print(\"✅ Saved 'train_pca.csv' and 'test_pca.csv'\")\n"
   ]
  },
  {
   "cell_type": "code",
   "execution_count": 18,
   "id": "b5535669-53d8-40f8-ad5c-8bd28005f31a",
   "metadata": {},
   "outputs": [
    {
     "data": {
      "image/png": "[encoded data removed]",
      "text/plain": [
       "<Figure size 800x600 with 1 Axes>"
      ]
     },
     "metadata": {},
     "output_type": "display_data"
    }
   ],
   "source": [
    "import matplotlib.pyplot as plt\n",
    "import seaborn as sns\n",
    "\n",
    "# Force 2D PCA for visualization\n",
    "pca_2d = PCA(n_components=2)\n",
    "X_train_pca2d = pca_2d.fit_transform(X_train_scaled)\n",
    "\n",
    "# Build DataFrame\n",
    "pca_df = pd.DataFrame(X_train_pca2d, columns=['PC1', 'PC2'])\n",
    "pca_df[target_col] = y_train.values\n",
    "\n",
    "# Plot\n",
    "plt.figure(figsize=(8,6))\n",
    "sns.scatterplot(data=pca_df, x='PC1', y='PC2', hue=target_col,\n",
    "                palette='viridis', alpha=0.7)\n",
    "plt.title(\"PCA - First Two Components (2D Scatter)\")\n",
    "plt.xlabel(\"PC1\")\n",
    "plt.ylabel(\"PC2\")\n",
    "plt.legend(title=\"Severity\")\n",
    "plt.show()\n"
   ]
  },
  {
   "cell_type": "code",
   "execution_count": null,
   "id": "6172e8d3-a99c-4f30-838b-32124eb45d6a",
   "metadata": {},
   "outputs": [],
   "source": []
  }
 ],
 "metadata": {
  "kernelspec": {
   "display_name": "Python [conda env:base] *",
   "language": "python",
   "name": "conda-base-py"
  },
  "language_info": {
   "codemirror_mode": {
    "name": "ipython",
    "version": 3
   },
   "file_extension": ".py",
   "mimetype": "text/x-python",
   "name": "python",
   "nbconvert_exporter": "python",
   "pygments_lexer": "ipython3",
   "version": "3.13.5"
  }
 },
 "nbformat": 4,
 "nbformat_minor": 5
}
